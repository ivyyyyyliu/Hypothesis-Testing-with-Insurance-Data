{
 "cells": [
  {
   "cell_type": "code",
   "execution_count": 2,
   "id": "02569fdb",
   "metadata": {},
   "outputs": [
    {
     "data": {
      "text/plain": [
       "'1.9.3'"
      ]
     },
     "execution_count": 2,
     "metadata": {},
     "output_type": "execute_result"
    }
   ],
   "source": [
    "import pandas as pd\n",
    "import numpy as np\n",
    "import matplotlib.pyplot as plt\n",
    "import seaborn as sns\n",
    "\n",
    "from scipy import stats\n",
    "import scipy\n",
    "scipy.__version__"
   ]
  },
  {
   "cell_type": "code",
   "execution_count": 3,
   "id": "5102ec0a",
   "metadata": {},
   "outputs": [
    {
     "data": {
      "text/html": [
       "<div>\n",
       "<style scoped>\n",
       "    .dataframe tbody tr th:only-of-type {\n",
       "        vertical-align: middle;\n",
       "    }\n",
       "\n",
       "    .dataframe tbody tr th {\n",
       "        vertical-align: top;\n",
       "    }\n",
       "\n",
       "    .dataframe thead th {\n",
       "        text-align: right;\n",
       "    }\n",
       "</style>\n",
       "<table border=\"1\" class=\"dataframe\">\n",
       "  <thead>\n",
       "    <tr style=\"text-align: right;\">\n",
       "      <th></th>\n",
       "      <th>age</th>\n",
       "      <th>sex</th>\n",
       "      <th>bmi</th>\n",
       "      <th>children</th>\n",
       "      <th>smoker</th>\n",
       "      <th>region</th>\n",
       "      <th>charges</th>\n",
       "    </tr>\n",
       "  </thead>\n",
       "  <tbody>\n",
       "    <tr>\n",
       "      <th>0</th>\n",
       "      <td>19</td>\n",
       "      <td>female</td>\n",
       "      <td>27.900</td>\n",
       "      <td>0</td>\n",
       "      <td>yes</td>\n",
       "      <td>southwest</td>\n",
       "      <td>16884.92400</td>\n",
       "    </tr>\n",
       "    <tr>\n",
       "      <th>1</th>\n",
       "      <td>18</td>\n",
       "      <td>male</td>\n",
       "      <td>33.770</td>\n",
       "      <td>1</td>\n",
       "      <td>no</td>\n",
       "      <td>southeast</td>\n",
       "      <td>1725.55230</td>\n",
       "    </tr>\n",
       "    <tr>\n",
       "      <th>2</th>\n",
       "      <td>28</td>\n",
       "      <td>male</td>\n",
       "      <td>33.000</td>\n",
       "      <td>3</td>\n",
       "      <td>no</td>\n",
       "      <td>southeast</td>\n",
       "      <td>4449.46200</td>\n",
       "    </tr>\n",
       "    <tr>\n",
       "      <th>3</th>\n",
       "      <td>33</td>\n",
       "      <td>male</td>\n",
       "      <td>22.705</td>\n",
       "      <td>0</td>\n",
       "      <td>no</td>\n",
       "      <td>northwest</td>\n",
       "      <td>21984.47061</td>\n",
       "    </tr>\n",
       "    <tr>\n",
       "      <th>4</th>\n",
       "      <td>32</td>\n",
       "      <td>male</td>\n",
       "      <td>28.880</td>\n",
       "      <td>0</td>\n",
       "      <td>no</td>\n",
       "      <td>northwest</td>\n",
       "      <td>3866.85520</td>\n",
       "    </tr>\n",
       "  </tbody>\n",
       "</table>\n",
       "</div>"
      ],
      "text/plain": [
       "   age     sex     bmi  children smoker     region      charges\n",
       "0   19  female  27.900         0    yes  southwest  16884.92400\n",
       "1   18    male  33.770         1     no  southeast   1725.55230\n",
       "2   28    male  33.000         3     no  southeast   4449.46200\n",
       "3   33    male  22.705         0     no  northwest  21984.47061\n",
       "4   32    male  28.880         0     no  northwest   3866.85520"
      ]
     },
     "execution_count": 3,
     "metadata": {},
     "output_type": "execute_result"
    }
   ],
   "source": [
    "df = pd.read_csv('Data/insurance - insurance.csv')\n",
    "df.head()"
   ]
  },
  {
   "cell_type": "code",
   "execution_count": 4,
   "id": "8403e919",
   "metadata": {},
   "outputs": [
    {
     "name": "stdout",
     "output_type": "stream",
     "text": [
      "<class 'pandas.core.frame.DataFrame'>\n",
      "RangeIndex: 1338 entries, 0 to 1337\n",
      "Data columns (total 7 columns):\n",
      " #   Column    Non-Null Count  Dtype  \n",
      "---  ------    --------------  -----  \n",
      " 0   age       1338 non-null   int64  \n",
      " 1   sex       1338 non-null   object \n",
      " 2   bmi       1338 non-null   float64\n",
      " 3   children  1338 non-null   int64  \n",
      " 4   smoker    1338 non-null   object \n",
      " 5   region    1338 non-null   object \n",
      " 6   charges   1338 non-null   float64\n",
      "dtypes: float64(2), int64(2), object(3)\n",
      "memory usage: 73.3+ KB\n"
     ]
    }
   ],
   "source": [
    "df.info()"
   ]
  },
  {
   "cell_type": "markdown",
   "id": "f7d8c7bb",
   "metadata": {},
   "source": [
    "# Q1. Do smokers have higher insurance charges than non-smokers?"
   ]
  },
  {
   "cell_type": "markdown",
   "id": "ae7f526a",
   "metadata": {},
   "source": [
    "## State your Hypothesis and Alternative Hypothesis\n"
   ]
  },
  {
   "cell_type": "markdown",
   "id": "7fc83459",
   "metadata": {},
   "source": [
    "- (Null Hypothesis): Smokers have same insurance charges as non-smokers.\n",
    "- (Alternative Hypothesis): smokers have sigificant higher insurance charges than non-smokers."
   ]
  },
  {
   "cell_type": "markdown",
   "id": "4ff7d137",
   "metadata": {},
   "source": [
    "## Select the correct test according to the data type and number of samples\n"
   ]
  },
  {
   "cell_type": "markdown",
   "id": "c39d910b",
   "metadata": {},
   "source": [
    "This data is numeric with two samples, will be using the 2 Sample T-Test."
   ]
  },
  {
   "cell_type": "markdown",
   "id": "c6c2d5d5",
   "metadata": {},
   "source": [
    "## Test the assumptions of your selected test."
   ]
  },
  {
   "cell_type": "code",
   "execution_count": 6,
   "id": "7548f29c",
   "metadata": {},
   "outputs": [
    {
     "data": {
      "text/html": [
       "<div>\n",
       "<style scoped>\n",
       "    .dataframe tbody tr th:only-of-type {\n",
       "        vertical-align: middle;\n",
       "    }\n",
       "\n",
       "    .dataframe tbody tr th {\n",
       "        vertical-align: top;\n",
       "    }\n",
       "\n",
       "    .dataframe thead th {\n",
       "        text-align: right;\n",
       "    }\n",
       "</style>\n",
       "<table border=\"1\" class=\"dataframe\">\n",
       "  <thead>\n",
       "    <tr style=\"text-align: right;\">\n",
       "      <th></th>\n",
       "      <th>smoker</th>\n",
       "      <th>charges</th>\n",
       "    </tr>\n",
       "  </thead>\n",
       "  <tbody>\n",
       "    <tr>\n",
       "      <th>0</th>\n",
       "      <td>yes</td>\n",
       "      <td>16884.92400</td>\n",
       "    </tr>\n",
       "    <tr>\n",
       "      <th>1</th>\n",
       "      <td>no</td>\n",
       "      <td>1725.55230</td>\n",
       "    </tr>\n",
       "    <tr>\n",
       "      <th>2</th>\n",
       "      <td>no</td>\n",
       "      <td>4449.46200</td>\n",
       "    </tr>\n",
       "    <tr>\n",
       "      <th>3</th>\n",
       "      <td>no</td>\n",
       "      <td>21984.47061</td>\n",
       "    </tr>\n",
       "    <tr>\n",
       "      <th>4</th>\n",
       "      <td>no</td>\n",
       "      <td>3866.85520</td>\n",
       "    </tr>\n",
       "  </tbody>\n",
       "</table>\n",
       "</div>"
      ],
      "text/plain": [
       "  smoker      charges\n",
       "0    yes  16884.92400\n",
       "1     no   1725.55230\n",
       "2     no   4449.46200\n",
       "3     no  21984.47061\n",
       "4     no   3866.85520"
      ]
     },
     "execution_count": 6,
     "metadata": {},
     "output_type": "execute_result"
    }
   ],
   "source": [
    "sc = ['smoker', 'charges']\n",
    "df[sc].head()"
   ]
  },
  {
   "cell_type": "code",
   "execution_count": 7,
   "id": "ee9fc006",
   "metadata": {},
   "outputs": [
    {
     "data": {
      "text/html": [
       "<div>\n",
       "<style scoped>\n",
       "    .dataframe tbody tr th:only-of-type {\n",
       "        vertical-align: middle;\n",
       "    }\n",
       "\n",
       "    .dataframe tbody tr th {\n",
       "        vertical-align: top;\n",
       "    }\n",
       "\n",
       "    .dataframe thead th {\n",
       "        text-align: right;\n",
       "    }\n",
       "</style>\n",
       "<table border=\"1\" class=\"dataframe\">\n",
       "  <thead>\n",
       "    <tr style=\"text-align: right;\">\n",
       "      <th></th>\n",
       "      <th>smoker</th>\n",
       "      <th>charges</th>\n",
       "    </tr>\n",
       "  </thead>\n",
       "  <tbody>\n",
       "    <tr>\n",
       "      <th>0</th>\n",
       "      <td>yes</td>\n",
       "      <td>16884.9240</td>\n",
       "    </tr>\n",
       "    <tr>\n",
       "      <th>11</th>\n",
       "      <td>yes</td>\n",
       "      <td>27808.7251</td>\n",
       "    </tr>\n",
       "    <tr>\n",
       "      <th>14</th>\n",
       "      <td>yes</td>\n",
       "      <td>39611.7577</td>\n",
       "    </tr>\n",
       "    <tr>\n",
       "      <th>19</th>\n",
       "      <td>yes</td>\n",
       "      <td>36837.4670</td>\n",
       "    </tr>\n",
       "    <tr>\n",
       "      <th>23</th>\n",
       "      <td>yes</td>\n",
       "      <td>37701.8768</td>\n",
       "    </tr>\n",
       "  </tbody>\n",
       "</table>\n",
       "</div>"
      ],
      "text/plain": [
       "   smoker     charges\n",
       "0     yes  16884.9240\n",
       "11    yes  27808.7251\n",
       "14    yes  39611.7577\n",
       "19    yes  36837.4670\n",
       "23    yes  37701.8768"
      ]
     },
     "execution_count": 7,
     "metadata": {},
     "output_type": "execute_result"
    }
   ],
   "source": [
    "smoker_yes = df.loc[df['smoker'] == 'yes', sc]\n",
    "smoker_yes.head()"
   ]
  },
  {
   "cell_type": "code",
   "execution_count": 8,
   "id": "7a1f5bca",
   "metadata": {},
   "outputs": [
    {
     "data": {
      "text/html": [
       "<div>\n",
       "<style scoped>\n",
       "    .dataframe tbody tr th:only-of-type {\n",
       "        vertical-align: middle;\n",
       "    }\n",
       "\n",
       "    .dataframe tbody tr th {\n",
       "        vertical-align: top;\n",
       "    }\n",
       "\n",
       "    .dataframe thead th {\n",
       "        text-align: right;\n",
       "    }\n",
       "</style>\n",
       "<table border=\"1\" class=\"dataframe\">\n",
       "  <thead>\n",
       "    <tr style=\"text-align: right;\">\n",
       "      <th></th>\n",
       "      <th>smoker</th>\n",
       "      <th>charges</th>\n",
       "    </tr>\n",
       "  </thead>\n",
       "  <tbody>\n",
       "    <tr>\n",
       "      <th>1</th>\n",
       "      <td>no</td>\n",
       "      <td>1725.55230</td>\n",
       "    </tr>\n",
       "    <tr>\n",
       "      <th>2</th>\n",
       "      <td>no</td>\n",
       "      <td>4449.46200</td>\n",
       "    </tr>\n",
       "    <tr>\n",
       "      <th>3</th>\n",
       "      <td>no</td>\n",
       "      <td>21984.47061</td>\n",
       "    </tr>\n",
       "    <tr>\n",
       "      <th>4</th>\n",
       "      <td>no</td>\n",
       "      <td>3866.85520</td>\n",
       "    </tr>\n",
       "    <tr>\n",
       "      <th>5</th>\n",
       "      <td>no</td>\n",
       "      <td>3756.62160</td>\n",
       "    </tr>\n",
       "  </tbody>\n",
       "</table>\n",
       "</div>"
      ],
      "text/plain": [
       "  smoker      charges\n",
       "1     no   1725.55230\n",
       "2     no   4449.46200\n",
       "3     no  21984.47061\n",
       "4     no   3866.85520\n",
       "5     no   3756.62160"
      ]
     },
     "execution_count": 8,
     "metadata": {},
     "output_type": "execute_result"
    }
   ],
   "source": [
    "smoker_no = df.loc[df['smoker'] == 'no', sc]\n",
    "smoker_no.head()"
   ]
  },
  {
   "cell_type": "markdown",
   "id": "17959369",
   "metadata": {},
   "source": [
    "## Execute the selected test, or the alternative test (if you do not meet the assumptions)"
   ]
  },
  {
   "cell_type": "markdown",
   "id": "83af49d3",
   "metadata": {},
   "source": [
    "- outliner"
   ]
  },
  {
   "cell_type": "code",
   "execution_count": 10,
   "id": "46233e96",
   "metadata": {},
   "outputs": [],
   "source": [
    "smoker_group = smoker_yes['charges']\n",
    "non_smoker_group = smoker_no['charges']"
   ]
  },
  {
   "cell_type": "code",
   "execution_count": 11,
   "id": "837a5e50",
   "metadata": {},
   "outputs": [
    {
     "data": {
      "text/plain": [
       "False    274\n",
       "Name: charges, dtype: int64"
      ]
     },
     "execution_count": 11,
     "metadata": {},
     "output_type": "execute_result"
    }
   ],
   "source": [
    "smoker_outliers = np.abs(stats.zscore(smoker_group))>3\n",
    "\n",
    "## how many outliers?\n",
    "smoker_outliers.value_counts()"
   ]
  },
  {
   "cell_type": "code",
   "execution_count": 12,
   "id": "f68444b1",
   "metadata": {},
   "outputs": [
    {
     "data": {
      "text/plain": [
       "False    1040\n",
       "True       24\n",
       "Name: charges, dtype: int64"
      ]
     },
     "execution_count": 12,
     "metadata": {},
     "output_type": "execute_result"
    }
   ],
   "source": [
    "non_smoker_outliers = np.abs(stats.zscore(non_smoker_group))>3\n",
    "\n",
    "## how many outliers?\n",
    "non_smoker_outliers.value_counts()"
   ]
  },
  {
   "cell_type": "code",
   "execution_count": 13,
   "id": "44f5df69",
   "metadata": {},
   "outputs": [],
   "source": [
    "non_smoker_group = non_smoker_group[~non_smoker_outliers]"
   ]
  },
  {
   "cell_type": "code",
   "execution_count": 14,
   "id": "64f15568",
   "metadata": {},
   "outputs": [
    {
     "data": {
      "text/plain": [
       "1040"
      ]
     },
     "execution_count": 14,
     "metadata": {},
     "output_type": "execute_result"
    }
   ],
   "source": [
    "len(non_smoker_group)"
   ]
  },
  {
   "cell_type": "markdown",
   "id": "64713a3b",
   "metadata": {},
   "source": [
    "- Normality"
   ]
  },
  {
   "cell_type": "code",
   "execution_count": 15,
   "id": "276d8b63",
   "metadata": {},
   "outputs": [
    {
     "data": {
      "text/plain": [
       "NormaltestResult(statistic=61.03941356533816, pvalue=5.564930630036463e-14)"
      ]
     },
     "execution_count": 15,
     "metadata": {},
     "output_type": "execute_result"
    }
   ],
   "source": [
    "stats.normaltest(smoker_group)"
   ]
  },
  {
   "cell_type": "code",
   "execution_count": 16,
   "id": "f396fca5",
   "metadata": {},
   "outputs": [
    {
     "data": {
      "text/plain": [
       "NormaltestResult(statistic=163.80367047789198, pvalue=2.6945416315543976e-36)"
      ]
     },
     "execution_count": 16,
     "metadata": {},
     "output_type": "execute_result"
    }
   ],
   "source": [
    "stats.normaltest(non_smoker_group)"
   ]
  },
  {
   "cell_type": "markdown",
   "id": "dfc75c0d",
   "metadata": {},
   "source": [
    "each group has greater than 15 samples. Due to this, normality tests have been passed."
   ]
  },
  {
   "cell_type": "markdown",
   "id": "55f95af4",
   "metadata": {},
   "source": [
    "- Equal Variance"
   ]
  },
  {
   "cell_type": "code",
   "execution_count": 20,
   "id": "8308600a",
   "metadata": {},
   "outputs": [
    {
     "name": "stdout",
     "output_type": "stream",
     "text": [
      "LeveneResult(statistic=520.7468821724297, pvalue=2.4247238784347824e-97)\n"
     ]
    },
    {
     "data": {
      "text/plain": [
       "True"
      ]
     },
     "execution_count": 20,
     "metadata": {},
     "output_type": "execute_result"
    }
   ],
   "source": [
    "results = stats.levene(smoker_group, non_smoker_group)\n",
    "print(results)\n",
    "results.pvalue < .05"
   ]
  },
  {
   "cell_type": "markdown",
   "id": "ce2aca1a",
   "metadata": {},
   "source": [
    "- Final Hypothesis"
   ]
  },
  {
   "cell_type": "code",
   "execution_count": 21,
   "id": "bd5bc47a",
   "metadata": {},
   "outputs": [
    {
     "name": "stdout",
     "output_type": "stream",
     "text": [
      "Ttest_indResult(statistic=33.732305987092516, pvalue=2.575322662587431e-104)\n"
     ]
    },
    {
     "data": {
      "text/plain": [
       "True"
      ]
     },
     "execution_count": 21,
     "metadata": {},
     "output_type": "execute_result"
    }
   ],
   "source": [
    "results = stats.ttest_ind(smoker_group, non_smoker_group, equal_var = False)\n",
    "print(results)\n",
    "results.pvalue < .05"
   ]
  },
  {
   "cell_type": "markdown",
   "id": "cd84d8c0",
   "metadata": {},
   "source": [
    "## Interpret your p-value and reject or fail to reject your null hypothesis "
   ]
  },
  {
   "cell_type": "markdown",
   "id": "a56a339a",
   "metadata": {},
   "source": [
    "p-vaule is less than .05 so we reject the null hypothesis."
   ]
  },
  {
   "cell_type": "markdown",
   "id": "4aa35545",
   "metadata": {},
   "source": [
    "smokers have a significant charge more that non-smokers"
   ]
  },
  {
   "cell_type": "markdown",
   "id": "d3c93ed4",
   "metadata": {},
   "source": [
    "## Show a supporting visualization that helps display the result"
   ]
  },
  {
   "cell_type": "code",
   "execution_count": 22,
   "id": "386d0bea",
   "metadata": {},
   "outputs": [
    {
     "data": {
      "image/png": "[encoded data removed]",
      "text/plain": [
       "<Figure size 640x480 with 1 Axes>"
      ]
     },
     "metadata": {},
     "output_type": "display_data"
    }
   ],
   "source": [
    "sns.barplot(data = df, x = \"smoker\", y = \"charges\");"
   ]
  },
  {
   "cell_type": "markdown",
   "id": "22911281",
   "metadata": {},
   "source": [
    "# Q2. Are men more likely to smoke than women?"
   ]
  },
  {
   "cell_type": "markdown",
   "id": "fb015650",
   "metadata": {},
   "source": [
    "## State your Hypothesis and Alternative Hypothesis"
   ]
  },
  {
   "cell_type": "markdown",
   "id": "b90d85d2",
   "metadata": {},
   "source": [
    "(Null Hypothesis): smoking has no significantly affected by sex\n",
    "\n",
    "(Alternative Hypothesis): smoking is significantly affected by sex."
   ]
  },
  {
   "cell_type": "markdown",
   "id": "efd3438e",
   "metadata": {},
   "source": [
    "## Select the correct test according to the data type and number of samples"
   ]
  },
  {
   "cell_type": "markdown",
   "id": "4367fba3",
   "metadata": {},
   "source": [
    "This data is categorical with two samples, will be using the Chi-Square"
   ]
  },
  {
   "cell_type": "markdown",
   "id": "f8e77dff",
   "metadata": {},
   "source": [
    "## Test the assumptions of your selected test."
   ]
  },
  {
   "cell_type": "code",
   "execution_count": 24,
   "id": "28a2e349",
   "metadata": {},
   "outputs": [
    {
     "data": {
      "text/html": [
       "<div>\n",
       "<style scoped>\n",
       "    .dataframe tbody tr th:only-of-type {\n",
       "        vertical-align: middle;\n",
       "    }\n",
       "\n",
       "    .dataframe tbody tr th {\n",
       "        vertical-align: top;\n",
       "    }\n",
       "\n",
       "    .dataframe thead th {\n",
       "        text-align: right;\n",
       "    }\n",
       "</style>\n",
       "<table border=\"1\" class=\"dataframe\">\n",
       "  <thead>\n",
       "    <tr style=\"text-align: right;\">\n",
       "      <th>smoker</th>\n",
       "      <th>no</th>\n",
       "      <th>yes</th>\n",
       "    </tr>\n",
       "    <tr>\n",
       "      <th>sex</th>\n",
       "      <th></th>\n",
       "      <th></th>\n",
       "    </tr>\n",
       "  </thead>\n",
       "  <tbody>\n",
       "    <tr>\n",
       "      <th>female</th>\n",
       "      <td>547</td>\n",
       "      <td>115</td>\n",
       "    </tr>\n",
       "    <tr>\n",
       "      <th>male</th>\n",
       "      <td>517</td>\n",
       "      <td>159</td>\n",
       "    </tr>\n",
       "  </tbody>\n",
       "</table>\n",
       "</div>"
      ],
      "text/plain": [
       "smoker   no  yes\n",
       "sex             \n",
       "female  547  115\n",
       "male    517  159"
      ]
     },
     "execution_count": 24,
     "metadata": {},
     "output_type": "execute_result"
    }
   ],
   "source": [
    "table = pd.crosstab(df['sex'], df['smoker'])\n",
    "table"
   ]
  },
  {
   "cell_type": "markdown",
   "id": "b59d552a",
   "metadata": {},
   "source": [
    "## Execute the selected test, or the alternative test (if you do not meet the assumptions"
   ]
  },
  {
   "cell_type": "code",
   "execution_count": 25,
   "id": "437aefd1",
   "metadata": {},
   "outputs": [],
   "source": [
    "result = stats.chi2_contingency(table)\n",
    "chi2, p, deg_free, expected_vals = result"
   ]
  },
  {
   "cell_type": "code",
   "execution_count": 26,
   "id": "539d1fd9",
   "metadata": {},
   "outputs": [
    {
     "name": "stdout",
     "output_type": "stream",
     "text": [
      "0.006548143503580696\n"
     ]
    },
    {
     "data": {
      "text/plain": [
       "True"
      ]
     },
     "execution_count": 26,
     "metadata": {},
     "output_type": "execute_result"
    }
   ],
   "source": [
    "print(p)\n",
    "p<.05"
   ]
  },
  {
   "cell_type": "markdown",
   "id": "b2fc27cf",
   "metadata": {},
   "source": [
    "## Interpret your p-value and reject or fail to reject your null hypothesis"
   ]
  },
  {
   "cell_type": "markdown",
   "id": "86b20bb2",
   "metadata": {},
   "source": [
    "The p-value is less than 0.5(alpha) so we reject the null hypothesis.\n",
    "\n",
    "The smoking is significantly affected by sex.\n"
   ]
  },
  {
   "cell_type": "markdown",
   "id": "dc3965ba",
   "metadata": {},
   "source": [
    "## Show a supporting visualization that helps display the result"
   ]
  },
  {
   "cell_type": "code",
   "execution_count": 27,
   "id": "a5bb1389",
   "metadata": {},
   "outputs": [
    {
     "data": {
      "image/png": "[encoded data removed]",
      "text/plain": [
       "<Figure size 640x480 with 1 Axes>"
      ]
     },
     "metadata": {},
     "output_type": "display_data"
    }
   ],
   "source": [
    "sns.histplot(data = df, x = \"smoker\", hue = \"sex\");"
   ]
  },
  {
   "cell_type": "markdown",
   "id": "344820c1",
   "metadata": {},
   "source": [
    "# Q3. Do different regions have different charges, on average?"
   ]
  },
  {
   "cell_type": "markdown",
   "id": "21bfa02d",
   "metadata": {},
   "source": [
    "## State your Hypothesis and Alternative Hypothesis"
   ]
  },
  {
   "cell_type": "markdown",
   "id": "fffaeaca",
   "metadata": {},
   "source": [
    "(Null Hypothesis): There is no significantly different charge between different regions.\n",
    "\n",
    "(Alternative Hypothesis): There is significantly different charge between different regions."
   ]
  },
  {
   "cell_type": "markdown",
   "id": "730c638d",
   "metadata": {},
   "source": [
    "## Select the correct test according to the data type and number of samples"
   ]
  },
  {
   "cell_type": "markdown",
   "id": "15b9525b",
   "metadata": {},
   "source": [
    "This data is numeric with four samples(southeast/southwest/northeast/northwest), will be using ANOVA test"
   ]
  },
  {
   "cell_type": "markdown",
   "id": "2a2fa29c",
   "metadata": {},
   "source": [
    "## Test the assumptions of your selected test"
   ]
  },
  {
   "cell_type": "code",
   "execution_count": 29,
   "id": "21ffd769",
   "metadata": {},
   "outputs": [
    {
     "data": {
      "text/html": [
       "<div>\n",
       "<style scoped>\n",
       "    .dataframe tbody tr th:only-of-type {\n",
       "        vertical-align: middle;\n",
       "    }\n",
       "\n",
       "    .dataframe tbody tr th {\n",
       "        vertical-align: top;\n",
       "    }\n",
       "\n",
       "    .dataframe thead th {\n",
       "        text-align: right;\n",
       "    }\n",
       "</style>\n",
       "<table border=\"1\" class=\"dataframe\">\n",
       "  <thead>\n",
       "    <tr style=\"text-align: right;\">\n",
       "      <th></th>\n",
       "      <th>region</th>\n",
       "      <th>charges</th>\n",
       "    </tr>\n",
       "  </thead>\n",
       "  <tbody>\n",
       "    <tr>\n",
       "      <th>0</th>\n",
       "      <td>southwest</td>\n",
       "      <td>16884.92400</td>\n",
       "    </tr>\n",
       "    <tr>\n",
       "      <th>1</th>\n",
       "      <td>southeast</td>\n",
       "      <td>1725.55230</td>\n",
       "    </tr>\n",
       "    <tr>\n",
       "      <th>2</th>\n",
       "      <td>southeast</td>\n",
       "      <td>4449.46200</td>\n",
       "    </tr>\n",
       "    <tr>\n",
       "      <th>3</th>\n",
       "      <td>northwest</td>\n",
       "      <td>21984.47061</td>\n",
       "    </tr>\n",
       "    <tr>\n",
       "      <th>4</th>\n",
       "      <td>northwest</td>\n",
       "      <td>3866.85520</td>\n",
       "    </tr>\n",
       "  </tbody>\n",
       "</table>\n",
       "</div>"
      ],
      "text/plain": [
       "      region      charges\n",
       "0  southwest  16884.92400\n",
       "1  southeast   1725.55230\n",
       "2  southeast   4449.46200\n",
       "3  northwest  21984.47061\n",
       "4  northwest   3866.85520"
      ]
     },
     "execution_count": 29,
     "metadata": {},
     "output_type": "execute_result"
    }
   ],
   "source": [
    "rc_cols = ['region', 'charges']\n",
    "df[rc_cols].head()"
   ]
  },
  {
   "cell_type": "code",
   "execution_count": 30,
   "id": "34bfae1e",
   "metadata": {},
   "outputs": [
    {
     "data": {
      "text/html": [
       "<div>\n",
       "<style scoped>\n",
       "    .dataframe tbody tr th:only-of-type {\n",
       "        vertical-align: middle;\n",
       "    }\n",
       "\n",
       "    .dataframe tbody tr th {\n",
       "        vertical-align: top;\n",
       "    }\n",
       "\n",
       "    .dataframe thead th {\n",
       "        text-align: right;\n",
       "    }\n",
       "</style>\n",
       "<table border=\"1\" class=\"dataframe\">\n",
       "  <thead>\n",
       "    <tr style=\"text-align: right;\">\n",
       "      <th></th>\n",
       "      <th>region</th>\n",
       "      <th>charges</th>\n",
       "    </tr>\n",
       "  </thead>\n",
       "  <tbody>\n",
       "    <tr>\n",
       "      <th>1</th>\n",
       "      <td>southeast</td>\n",
       "      <td>1725.5523</td>\n",
       "    </tr>\n",
       "    <tr>\n",
       "      <th>2</th>\n",
       "      <td>southeast</td>\n",
       "      <td>4449.4620</td>\n",
       "    </tr>\n",
       "    <tr>\n",
       "      <th>5</th>\n",
       "      <td>southeast</td>\n",
       "      <td>3756.6216</td>\n",
       "    </tr>\n",
       "    <tr>\n",
       "      <th>6</th>\n",
       "      <td>southeast</td>\n",
       "      <td>8240.5896</td>\n",
       "    </tr>\n",
       "    <tr>\n",
       "      <th>11</th>\n",
       "      <td>southeast</td>\n",
       "      <td>27808.7251</td>\n",
       "    </tr>\n",
       "  </tbody>\n",
       "</table>\n",
       "</div>"
      ],
      "text/plain": [
       "       region     charges\n",
       "1   southeast   1725.5523\n",
       "2   southeast   4449.4620\n",
       "5   southeast   3756.6216\n",
       "6   southeast   8240.5896\n",
       "11  southeast  27808.7251"
      ]
     },
     "execution_count": 30,
     "metadata": {},
     "output_type": "execute_result"
    }
   ],
   "source": [
    "southeast = df.loc[df['region'] == 'southeast', rc_cols]\n",
    "southeast.head()"
   ]
  },
  {
   "cell_type": "code",
   "execution_count": 32,
   "id": "f3b90e95",
   "metadata": {},
   "outputs": [
    {
     "data": {
      "text/html": [
       "<div>\n",
       "<style scoped>\n",
       "    .dataframe tbody tr th:only-of-type {\n",
       "        vertical-align: middle;\n",
       "    }\n",
       "\n",
       "    .dataframe tbody tr th {\n",
       "        vertical-align: top;\n",
       "    }\n",
       "\n",
       "    .dataframe thead th {\n",
       "        text-align: right;\n",
       "    }\n",
       "</style>\n",
       "<table border=\"1\" class=\"dataframe\">\n",
       "  <thead>\n",
       "    <tr style=\"text-align: right;\">\n",
       "      <th></th>\n",
       "      <th>region</th>\n",
       "      <th>charges</th>\n",
       "    </tr>\n",
       "  </thead>\n",
       "  <tbody>\n",
       "    <tr>\n",
       "      <th>0</th>\n",
       "      <td>southwest</td>\n",
       "      <td>16884.924</td>\n",
       "    </tr>\n",
       "    <tr>\n",
       "      <th>12</th>\n",
       "      <td>southwest</td>\n",
       "      <td>1826.843</td>\n",
       "    </tr>\n",
       "    <tr>\n",
       "      <th>15</th>\n",
       "      <td>southwest</td>\n",
       "      <td>1837.237</td>\n",
       "    </tr>\n",
       "    <tr>\n",
       "      <th>18</th>\n",
       "      <td>southwest</td>\n",
       "      <td>10602.385</td>\n",
       "    </tr>\n",
       "    <tr>\n",
       "      <th>19</th>\n",
       "      <td>southwest</td>\n",
       "      <td>36837.467</td>\n",
       "    </tr>\n",
       "  </tbody>\n",
       "</table>\n",
       "</div>"
      ],
      "text/plain": [
       "       region    charges\n",
       "0   southwest  16884.924\n",
       "12  southwest   1826.843\n",
       "15  southwest   1837.237\n",
       "18  southwest  10602.385\n",
       "19  southwest  36837.467"
      ]
     },
     "execution_count": 32,
     "metadata": {},
     "output_type": "execute_result"
    }
   ],
   "source": [
    "southwest = df.loc[df['region'] == 'southwest', rc_cols]\n",
    "southwest.head()"
   ]
  },
  {
   "cell_type": "code",
   "execution_count": 31,
   "id": "52c62c04",
   "metadata": {},
   "outputs": [
    {
     "data": {
      "text/html": [
       "<div>\n",
       "<style scoped>\n",
       "    .dataframe tbody tr th:only-of-type {\n",
       "        vertical-align: middle;\n",
       "    }\n",
       "\n",
       "    .dataframe tbody tr th {\n",
       "        vertical-align: top;\n",
       "    }\n",
       "\n",
       "    .dataframe thead th {\n",
       "        text-align: right;\n",
       "    }\n",
       "</style>\n",
       "<table border=\"1\" class=\"dataframe\">\n",
       "  <thead>\n",
       "    <tr style=\"text-align: right;\">\n",
       "      <th></th>\n",
       "      <th>region</th>\n",
       "      <th>charges</th>\n",
       "    </tr>\n",
       "  </thead>\n",
       "  <tbody>\n",
       "    <tr>\n",
       "      <th>8</th>\n",
       "      <td>northeast</td>\n",
       "      <td>6406.41070</td>\n",
       "    </tr>\n",
       "    <tr>\n",
       "      <th>10</th>\n",
       "      <td>northeast</td>\n",
       "      <td>2721.32080</td>\n",
       "    </tr>\n",
       "    <tr>\n",
       "      <th>16</th>\n",
       "      <td>northeast</td>\n",
       "      <td>10797.33620</td>\n",
       "    </tr>\n",
       "    <tr>\n",
       "      <th>17</th>\n",
       "      <td>northeast</td>\n",
       "      <td>2395.17155</td>\n",
       "    </tr>\n",
       "    <tr>\n",
       "      <th>20</th>\n",
       "      <td>northeast</td>\n",
       "      <td>13228.84695</td>\n",
       "    </tr>\n",
       "  </tbody>\n",
       "</table>\n",
       "</div>"
      ],
      "text/plain": [
       "       region      charges\n",
       "8   northeast   6406.41070\n",
       "10  northeast   2721.32080\n",
       "16  northeast  10797.33620\n",
       "17  northeast   2395.17155\n",
       "20  northeast  13228.84695"
      ]
     },
     "execution_count": 31,
     "metadata": {},
     "output_type": "execute_result"
    }
   ],
   "source": [
    "northeast = df.loc[df['region'] == 'northeast', rc_cols]\n",
    "northeast.head()"
   ]
  },
  {
   "cell_type": "code",
   "execution_count": 33,
   "id": "fca1e45f",
   "metadata": {},
   "outputs": [
    {
     "data": {
      "text/html": [
       "<div>\n",
       "<style scoped>\n",
       "    .dataframe tbody tr th:only-of-type {\n",
       "        vertical-align: middle;\n",
       "    }\n",
       "\n",
       "    .dataframe tbody tr th {\n",
       "        vertical-align: top;\n",
       "    }\n",
       "\n",
       "    .dataframe thead th {\n",
       "        text-align: right;\n",
       "    }\n",
       "</style>\n",
       "<table border=\"1\" class=\"dataframe\">\n",
       "  <thead>\n",
       "    <tr style=\"text-align: right;\">\n",
       "      <th></th>\n",
       "      <th>region</th>\n",
       "      <th>charges</th>\n",
       "    </tr>\n",
       "  </thead>\n",
       "  <tbody>\n",
       "    <tr>\n",
       "      <th>3</th>\n",
       "      <td>northwest</td>\n",
       "      <td>21984.47061</td>\n",
       "    </tr>\n",
       "    <tr>\n",
       "      <th>4</th>\n",
       "      <td>northwest</td>\n",
       "      <td>3866.85520</td>\n",
       "    </tr>\n",
       "    <tr>\n",
       "      <th>7</th>\n",
       "      <td>northwest</td>\n",
       "      <td>7281.50560</td>\n",
       "    </tr>\n",
       "    <tr>\n",
       "      <th>9</th>\n",
       "      <td>northwest</td>\n",
       "      <td>28923.13692</td>\n",
       "    </tr>\n",
       "    <tr>\n",
       "      <th>24</th>\n",
       "      <td>northwest</td>\n",
       "      <td>6203.90175</td>\n",
       "    </tr>\n",
       "  </tbody>\n",
       "</table>\n",
       "</div>"
      ],
      "text/plain": [
       "       region      charges\n",
       "3   northwest  21984.47061\n",
       "4   northwest   3866.85520\n",
       "7   northwest   7281.50560\n",
       "9   northwest  28923.13692\n",
       "24  northwest   6203.90175"
      ]
     },
     "execution_count": 33,
     "metadata": {},
     "output_type": "execute_result"
    }
   ],
   "source": [
    "northwest = df.loc[df['region'] == 'northwest', rc_cols]\n",
    "northwest.head()"
   ]
  },
  {
   "cell_type": "code",
   "execution_count": 34,
   "id": "6d369e70",
   "metadata": {},
   "outputs": [],
   "source": [
    "southeast_group = southeast['charges']\n",
    "southwest_group = southwest['charges']\n",
    "northeast_group = northeast['charges']\n",
    "northwest_group = northwest['charges']"
   ]
  },
  {
   "cell_type": "code",
   "execution_count": 35,
   "id": "dd232af5",
   "metadata": {},
   "outputs": [
    {
     "data": {
      "text/plain": [
       "False    362\n",
       "True       2\n",
       "Name: charges, dtype: int64"
      ]
     },
     "execution_count": 35,
     "metadata": {},
     "output_type": "execute_result"
    }
   ],
   "source": [
    "southeast_outliers = np.abs(stats.zscore(southeast_group))>3\n",
    "southeast_outliers.value_counts()"
   ]
  },
  {
   "cell_type": "code",
   "execution_count": 36,
   "id": "fdf4bf42",
   "metadata": {},
   "outputs": [
    {
     "data": {
      "text/plain": [
       "False    317\n",
       "True       8\n",
       "Name: charges, dtype: int64"
      ]
     },
     "execution_count": 36,
     "metadata": {},
     "output_type": "execute_result"
    }
   ],
   "source": [
    "southwest_outliers = np.abs(stats.zscore(southwest_group))>3\n",
    "southwest_outliers.value_counts()"
   ]
  },
  {
   "cell_type": "code",
   "execution_count": 37,
   "id": "019530ce",
   "metadata": {},
   "outputs": [
    {
     "data": {
      "text/plain": [
       "False    320\n",
       "True       4\n",
       "Name: charges, dtype: int64"
      ]
     },
     "execution_count": 37,
     "metadata": {},
     "output_type": "execute_result"
    }
   ],
   "source": [
    "northeast_outliers = np.abs(stats.zscore(northeast_group))>3\n",
    "northeast_outliers.value_counts()"
   ]
  },
  {
   "cell_type": "code",
   "execution_count": 38,
   "id": "a2cbd36b",
   "metadata": {},
   "outputs": [
    {
     "data": {
      "text/plain": [
       "False    318\n",
       "True       7\n",
       "Name: charges, dtype: int64"
      ]
     },
     "execution_count": 38,
     "metadata": {},
     "output_type": "execute_result"
    }
   ],
   "source": [
    "northwest_outliers = np.abs(stats.zscore(northwest_group))>3\n",
    "northwest_outliers.value_counts()"
   ]
  },
  {
   "cell_type": "code",
   "execution_count": 39,
   "id": "8d0633b0",
   "metadata": {},
   "outputs": [],
   "source": [
    "southeast_group = southeast_group[~southeast_outliers]\n",
    "southwest_group = southwest_group[~southwest_outliers]\n",
    "northeast_group = northeast_group[~northeast_outliers]\n",
    "northwest_group = northwest_group[~northwest_outliers]"
   ]
  },
  {
   "cell_type": "code",
   "execution_count": 40,
   "id": "6a2a145a",
   "metadata": {},
   "outputs": [
    {
     "data": {
      "text/plain": [
       "362"
      ]
     },
     "execution_count": 40,
     "metadata": {},
     "output_type": "execute_result"
    }
   ],
   "source": [
    "len(southeast_group)"
   ]
  },
  {
   "cell_type": "code",
   "execution_count": 41,
   "id": "f7bfe92d",
   "metadata": {},
   "outputs": [
    {
     "data": {
      "text/plain": [
       "317"
      ]
     },
     "execution_count": 41,
     "metadata": {},
     "output_type": "execute_result"
    }
   ],
   "source": [
    "len(southwest_group)"
   ]
  },
  {
   "cell_type": "code",
   "execution_count": 42,
   "id": "998fb6c4",
   "metadata": {},
   "outputs": [
    {
     "data": {
      "text/plain": [
       "320"
      ]
     },
     "execution_count": 42,
     "metadata": {},
     "output_type": "execute_result"
    }
   ],
   "source": [
    "len(northeast_group)"
   ]
  },
  {
   "cell_type": "code",
   "execution_count": 43,
   "id": "de38264e",
   "metadata": {},
   "outputs": [
    {
     "data": {
      "text/plain": [
       "318"
      ]
     },
     "execution_count": 43,
     "metadata": {},
     "output_type": "execute_result"
    }
   ],
   "source": [
    "len(northwest_group)"
   ]
  },
  {
   "cell_type": "markdown",
   "id": "ee5ea973",
   "metadata": {},
   "source": [
    "Normality Testing"
   ]
  },
  {
   "cell_type": "code",
   "execution_count": 44,
   "id": "1655b0c7",
   "metadata": {},
   "outputs": [
    {
     "data": {
      "text/plain": [
       "NormaltestResult(statistic=58.544941922461014, pvalue=1.9369900501741734e-13)"
      ]
     },
     "execution_count": 44,
     "metadata": {},
     "output_type": "execute_result"
    }
   ],
   "source": [
    "stats.normaltest(southeast_group)"
   ]
  },
  {
   "cell_type": "code",
   "execution_count": 45,
   "id": "0f72e513",
   "metadata": {},
   "outputs": [
    {
     "data": {
      "text/plain": [
       "NormaltestResult(statistic=97.22388571495878, pvalue=7.728611243124505e-22)"
      ]
     },
     "execution_count": 45,
     "metadata": {},
     "output_type": "execute_result"
    }
   ],
   "source": [
    "stats.normaltest(southwest_group)"
   ]
  },
  {
   "cell_type": "code",
   "execution_count": 46,
   "id": "a87ffede",
   "metadata": {},
   "outputs": [
    {
     "data": {
      "text/plain": [
       "NormaltestResult(statistic=75.7495652843634, pvalue=3.5578767155624347e-17)"
      ]
     },
     "execution_count": 46,
     "metadata": {},
     "output_type": "execute_result"
    }
   ],
   "source": [
    "stats.normaltest(northeast_group)"
   ]
  },
  {
   "cell_type": "code",
   "execution_count": 47,
   "id": "b5950eb7",
   "metadata": {},
   "outputs": [
    {
     "data": {
      "text/plain": [
       "NormaltestResult(statistic=85.34104476016293, pvalue=2.9405433782452325e-19)"
      ]
     },
     "execution_count": 47,
     "metadata": {},
     "output_type": "execute_result"
    }
   ],
   "source": [
    "stats.normaltest(northwest_group)"
   ]
  },
  {
   "cell_type": "markdown",
   "id": "e9ca797f",
   "metadata": {},
   "source": [
    "Testing Equal Variance"
   ]
  },
  {
   "cell_type": "code",
   "execution_count": 53,
   "id": "1642e64d",
   "metadata": {},
   "outputs": [
    {
     "name": "stdout",
     "output_type": "stream",
     "text": [
      "LeveneResult(statistic=9.51834900455444, pvalue=3.2035503711783993e-06)\n"
     ]
    },
    {
     "data": {
      "text/plain": [
       "True"
      ]
     },
     "execution_count": 53,
     "metadata": {},
     "output_type": "execute_result"
    }
   ],
   "source": [
    "results = stats.levene(southeast_group, southwest_group, northeast_group,northwest_group )\n",
    "print(results)\n",
    "results.pvalue < .05"
   ]
  },
  {
   "cell_type": "markdown",
   "id": "1de1cd50",
   "metadata": {},
   "source": [
    "## Execute the selected test, or the alternative test (if you do not meet the assumptions"
   ]
  },
  {
   "cell_type": "code",
   "execution_count": 54,
   "id": "8f621d7c",
   "metadata": {},
   "outputs": [
    {
     "name": "stdout",
     "output_type": "stream",
     "text": [
      "F_onewayResult(statistic=5.496394682506454, pvalue=0.0009419710075537749)\n"
     ]
    },
    {
     "data": {
      "text/plain": [
       "True"
      ]
     },
     "execution_count": 54,
     "metadata": {},
     "output_type": "execute_result"
    }
   ],
   "source": [
    "results = stats.f_oneway(southeast_group, southwest_group, northeast_group, northwest_group)\n",
    "print(results)\n",
    "results.pvalue < .05"
   ]
  },
  {
   "cell_type": "markdown",
   "id": "40dca404",
   "metadata": {},
   "source": [
    "## Interpret your p-value and reject or fail to reject your null hypothesis"
   ]
  },
  {
   "cell_type": "markdown",
   "id": "c17cae48",
   "metadata": {},
   "source": [
    "p-value is greater than 0.05 so we reject the null hypothesis. "
   ]
  },
  {
   "cell_type": "markdown",
   "id": "2eac5e08",
   "metadata": {},
   "source": [
    "There is significantly different charge between different regions."
   ]
  },
  {
   "cell_type": "markdown",
   "id": "c27b1fb5",
   "metadata": {},
   "source": [
    "## Show a supporting visualization that helps display the result"
   ]
  },
  {
   "cell_type": "code",
   "execution_count": 55,
   "id": "aeb8f458",
   "metadata": {},
   "outputs": [
    {
     "data": {
      "image/png": "[encoded data removed]",
      "text/plain": [
       "<Figure size 640x480 with 1 Axes>"
      ]
     },
     "metadata": {},
     "output_type": "display_data"
    }
   ],
   "source": [
    "sns.barplot(data = df, x = \"region\", y = \"charges\");"
   ]
  }
 ],
 "metadata": {
  "kernelspec": {
   "display_name": "Python (dojo-env)",
   "language": "python",
   "name": "dojo-env"
  },
  "language_info": {
   "codemirror_mode": {
    "name": "ipython",
    "version": 3
   },
   "file_extension": ".py",
   "mimetype": "text/x-python",
   "name": "python",
   "nbconvert_exporter": "python",
   "pygments_lexer": "ipython3",
   "version": "3.9.15"
  },
  "toc": {
   "base_numbering": 1,
   "nav_menu": {},
   "number_sections": true,
   "sideBar": true,
   "skip_h1_title": false,
   "title_cell": "Table of Contents",
   "title_sidebar": "Contents",
   "toc_cell": false,
   "toc_position": {},
   "toc_section_display": true,
   "toc_window_display": false
  }
 },
 "nbformat": 4,
 "nbformat_minor": 5
}
